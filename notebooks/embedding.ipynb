{
 "cells": [
  {
   "cell_type": "code",
   "execution_count": 8,
   "id": "f14254a9",
   "metadata": {},
   "outputs": [],
   "source": [
    "# Import libraries and modules\n",
    "import sys\n",
    "sys.path.append('../src')\n",
    "                                    \n",
    "import pandas as pd\n",
    "from text_chunker import TextChunker\n",
    "from text_embedder import TextEmbedder"
   ]
  },
  {
   "cell_type": "code",
   "execution_count": 10,
   "id": "4d5f20c0",
   "metadata": {},
   "outputs": [
    {
     "data": {
      "text/html": [
       "<div>\n",
       "<style scoped>\n",
       "    .dataframe tbody tr th:only-of-type {\n",
       "        vertical-align: middle;\n",
       "    }\n",
       "\n",
       "    .dataframe tbody tr th {\n",
       "        vertical-align: top;\n",
       "    }\n",
       "\n",
       "    .dataframe thead th {\n",
       "        text-align: right;\n",
       "    }\n",
       "</style>\n",
       "<table border=\"1\" class=\"dataframe\">\n",
       "  <thead>\n",
       "    <tr style=\"text-align: right;\">\n",
       "      <th></th>\n",
       "      <th>original_index</th>\n",
       "      <th>product</th>\n",
       "      <th>chunk</th>\n",
       "    </tr>\n",
       "  </thead>\n",
       "  <tbody>\n",
       "    <tr>\n",
       "      <th>12240</th>\n",
       "      <td>2397</td>\n",
       "      <td>Money transfer, virtual currency, or money ser...</td>\n",
       "      <td>i received deposits from the irs for my tax re...</td>\n",
       "    </tr>\n",
       "    <tr>\n",
       "      <th>32033</th>\n",
       "      <td>6757</td>\n",
       "      <td>Money transfer, virtual currency, or money ser...</td>\n",
       "      <td>to protect consumers but has also allowed repe...</td>\n",
       "    </tr>\n",
       "    <tr>\n",
       "      <th>34761</th>\n",
       "      <td>7466</td>\n",
       "      <td>Money transfer, virtual currency, or money ser...</td>\n",
       "      <td>i am writing to formally express my concern re...</td>\n",
       "    </tr>\n",
       "  </tbody>\n",
       "</table>\n",
       "</div>"
      ],
      "text/plain": [
       "       original_index                                            product  \\\n",
       "12240            2397  Money transfer, virtual currency, or money ser...   \n",
       "32033            6757  Money transfer, virtual currency, or money ser...   \n",
       "34761            7466  Money transfer, virtual currency, or money ser...   \n",
       "\n",
       "                                                   chunk  \n",
       "12240  i received deposits from the irs for my tax re...  \n",
       "32033  to protect consumers but has also allowed repe...  \n",
       "34761  i am writing to formally express my concern re...  "
      ]
     },
     "execution_count": 10,
     "metadata": {},
     "output_type": "execute_result"
    }
   ],
   "source": [
    "# Load filtered & cleaned dataset\n",
    "filtered_df = pd.read_csv(\"filtered_complaintsFinal.csv\")\n",
    "# Initialize chunker\n",
    "chunker = TextChunker(chunk_size=300, chunk_overlap=50)\n",
    "# Apply chunking\n",
    "chunked_df = chunker.chunk_dataframe(filtered_df)\n",
    "# Show example\n",
    "chunked_df.sample(3)"
   ]
  },
  {
   "cell_type": "code",
   "execution_count": 11,
   "id": "a16d5a71",
   "metadata": {},
   "outputs": [
    {
     "name": "stderr",
     "output_type": "stream",
     "text": [
      "Batches: 100%|██████████| 89/89 [11:30<00:00,  7.75s/it]\n"
     ]
    },
    {
     "name": "stdout",
     "output_type": "stream",
     "text": [
      "Embeddings shape: (45296, 384)\n"
     ]
    }
   ],
   "source": [
    "# Initialize model\n",
    "embedder = TextEmbedder(model_name=\"paraphrase-MiniLM-L3-v2\")\n",
    "# Extract chunks from the chunked DataFrame\n",
    "chunks = chunked_df[\"chunk\"].tolist()\n",
    "# Embed the chunks\n",
    "embeddings = embedder.embed_texts(chunks, batch_size=512)\n",
    "# Confirm shape\n",
    "print(\"Embeddings shape:\", embeddings.shape)"
   ]
  },
  {
   "cell_type": "code",
   "execution_count": 12,
   "id": "5b5994a4",
   "metadata": {},
   "outputs": [],
   "source": [
    "import os\n",
    "import faiss\n",
    "import numpy as np\n",
    "import json"
   ]
  },
  {
   "cell_type": "code",
   "execution_count": 13,
   "id": "28f67837",
   "metadata": {},
   "outputs": [
    {
     "name": "stdout",
     "output_type": "stream",
     "text": [
      "Number of vectors in the index: 45296\n",
      "FAISS index and metadata saved to 'vector_store/' directory.\n"
     ]
    }
   ],
   "source": [
    "os.makedirs(\"vector_store\", exist_ok=True)\n",
    "embeddings = embeddings.astype('float32')\n",
    "embedding_dim = embeddings.shape[1]\n",
    "\n",
    "# Initialize FAISS index (Flat index for simplicity)\n",
    "index = faiss.IndexFlatL2(embedding_dim)  # L2 distance; use IndexFlatIP for cosine sim\n",
    "\n",
    "# Add embeddings to index\n",
    "index.add(embeddings)\n",
    "print(f\"Number of vectors in the index: {index.ntotal}\")\n",
    "\n",
    "# Save the FAISS index to disk\n",
    "faiss.write_index(index, \"vector_store/faiss_index.bin\")\n",
    "\n",
    "# Save metadata for each chunk: complaint ID, product category, original text chunk, etc.\n",
    "# Assuming your chunked_df contains these columns, adjust as per your actual DataFrame\n",
    "metadata_list = []\n",
    "for _, row in chunked_df.iterrows():\n",
    "    metadata = {\n",
    "        \"complaint_id\": row.get(\"complaint_id\", None),   # adjust column names accordingly\n",
    "        \"product\": row.get(\"product\", None),\n",
    "        \"chunk\": row.get(\"chunk\"),\n",
    "    }\n",
    "    metadata_list.append(metadata)\n",
    "\n",
    "# Save metadata as JSON file aligned with the vectors in the FAISS index\n",
    "with open(\"vector_store/metadata.json\", \"w\", encoding=\"utf-8\") as f:\n",
    "    json.dump(metadata_list, f, ensure_ascii=False, indent=2)\n",
    "\n",
    "print(\"FAISS index and metadata saved to 'vector_store/' directory.\")"
   ]
  }
 ],
 "metadata": {
  "kernelspec": {
   "display_name": ".venv",
   "language": "python",
   "name": "python3"
  },
  "language_info": {
   "codemirror_mode": {
    "name": "ipython",
    "version": 3
   },
   "file_extension": ".py",
   "mimetype": "text/x-python",
   "name": "python",
   "nbconvert_exporter": "python",
   "pygments_lexer": "ipython3",
   "version": "3.12.7"
  }
 },
 "nbformat": 4,
 "nbformat_minor": 5
}
