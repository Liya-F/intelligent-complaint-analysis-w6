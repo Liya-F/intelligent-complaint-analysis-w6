{
 "cells": [
  {
   "cell_type": "code",
   "execution_count": 1,
   "id": "f14254a9",
   "metadata": {},
   "outputs": [
    {
     "name": "stderr",
     "output_type": "stream",
     "text": [
      "c:\\Users\\pc\\Desktop\\KAIM\\intelligent-complaint-analysis-w6\\.venv\\Lib\\site-packages\\tqdm\\auto.py:21: TqdmWarning: IProgress not found. Please update jupyter and ipywidgets. See https://ipywidgets.readthedocs.io/en/stable/user_install.html\n",
      "  from .autonotebook import tqdm as notebook_tqdm\n"
     ]
    }
   ],
   "source": [
    "# Import libraries and modules\n",
    "import sys\n",
    "sys.path.append('../src')\n",
    "                                    \n",
    "import pandas as pd\n",
    "from text_chunker import TextChunker\n",
    "from text_embedder import TextEmbedder"
   ]
  },
  {
   "cell_type": "code",
   "execution_count": 2,
   "id": "4d5f20c0",
   "metadata": {},
   "outputs": [
    {
     "data": {
      "text/html": [
       "<div>\n",
       "<style scoped>\n",
       "    .dataframe tbody tr th:only-of-type {\n",
       "        vertical-align: middle;\n",
       "    }\n",
       "\n",
       "    .dataframe tbody tr th {\n",
       "        vertical-align: top;\n",
       "    }\n",
       "\n",
       "    .dataframe thead th {\n",
       "        text-align: right;\n",
       "    }\n",
       "</style>\n",
       "<table border=\"1\" class=\"dataframe\">\n",
       "  <thead>\n",
       "    <tr style=\"text-align: right;\">\n",
       "      <th></th>\n",
       "      <th>original_index</th>\n",
       "      <th>product</th>\n",
       "      <th>chunk</th>\n",
       "    </tr>\n",
       "  </thead>\n",
       "  <tbody>\n",
       "    <tr>\n",
       "      <th>1137447</th>\n",
       "      <td>252502</td>\n",
       "      <td>Payday loan, title loan, or personal loan</td>\n",
       "      <td>because they said i was behind a payment the n...</td>\n",
       "    </tr>\n",
       "    <tr>\n",
       "      <th>1001777</th>\n",
       "      <td>225546</td>\n",
       "      <td>Checking or savings account</td>\n",
       "      <td>items must be posted step contact us to close ...</td>\n",
       "    </tr>\n",
       "    <tr>\n",
       "      <th>830922</th>\n",
       "      <td>190654</td>\n",
       "      <td>Credit card</td>\n",
       "      <td>rate charge xxxx xxxx however it said that i o...</td>\n",
       "    </tr>\n",
       "  </tbody>\n",
       "</table>\n",
       "</div>"
      ],
      "text/plain": [
       "         original_index                                    product  \\\n",
       "1137447          252502  Payday loan, title loan, or personal loan   \n",
       "1001777          225546                Checking or savings account   \n",
       "830922           190654                                Credit card   \n",
       "\n",
       "                                                     chunk  \n",
       "1137447  because they said i was behind a payment the n...  \n",
       "1001777  items must be posted step contact us to close ...  \n",
       "830922   rate charge xxxx xxxx however it said that i o...  "
      ]
     },
     "execution_count": 2,
     "metadata": {},
     "output_type": "execute_result"
    }
   ],
   "source": [
    "# Load filtered & cleaned dataset\n",
    "filtered_df = pd.read_csv(\"../data/filtered_complaints.csv\")\n",
    "# Initialize chunker\n",
    "chunker = TextChunker(chunk_size=300, chunk_overlap=50)\n",
    "# Apply chunking\n",
    "chunked_df = chunker.chunk_dataframe(filtered_df)\n",
    "# Show example\n",
    "chunked_df.sample(3)"
   ]
  },
  {
   "cell_type": "code",
   "execution_count": null,
   "id": "a16d5a71",
   "metadata": {},
   "outputs": [],
   "source": [
    "# Initialize model\n",
    "embedder = TextEmbedder(model_name=\"paraphrase-MiniLM-L3-v2\")\n",
    "# Extract chunks from the chunked DataFrame\n",
    "chunks = chunked_df[\"chunk\"].tolist()\n",
    "# Embed the chunks\n",
    "embeddings = embedder.embed_texts(chunks, batch_size=512)\n",
    "# Confirm shape\n",
    "print(\"Embeddings shape:\", embeddings.shape)"
   ]
  },
  {
   "cell_type": "code",
   "execution_count": null,
   "id": "5b5994a4",
   "metadata": {},
   "outputs": [],
   "source": [
    "import os\n",
    "import faiss\n",
    "import numpy as np\n",
    "import json"
   ]
  },
  {
   "cell_type": "code",
   "execution_count": null,
   "id": "28f67837",
   "metadata": {},
   "outputs": [],
   "source": [
    "os.makedirs(\"vector_store\", exist_ok=True)\n",
    "embeddings = embeddings.astype('float32')\n",
    "embedding_dim = embeddings.shape[1]\n",
    "\n",
    "# Initialize FAISS index (Flat index for simplicity)\n",
    "index = faiss.IndexFlatL2(embedding_dim)  # L2 distance; use IndexFlatIP for cosine sim\n",
    "\n",
    "# Add embeddings to index\n",
    "index.add(embeddings)\n",
    "print(f\"Number of vectors in the index: {index.ntotal}\")\n",
    "\n",
    "# Save the FAISS index to disk\n",
    "faiss.write_index(index, \"vector_store/faiss_index.bin\")\n",
    "\n",
    "# Save metadata for each chunk: complaint ID, product category, original text chunk, etc.\n",
    "# Assuming your chunked_df contains these columns, adjust as per your actual DataFrame\n",
    "metadata_list = []\n",
    "for _, row in chunked_df.iterrows():\n",
    "    metadata = {\n",
    "        \"complaint_id\": row.get(\"complaint_id\", None),   # adjust column names accordingly\n",
    "        \"product\": row.get(\"product\", None),\n",
    "        \"chunk\": row.get(\"chunk\"),\n",
    "    }\n",
    "    metadata_list.append(metadata)\n",
    "\n",
    "# Save metadata as JSON file aligned with the vectors in the FAISS index\n",
    "with open(\"vector_store/metadata.json\", \"w\", encoding=\"utf-8\") as f:\n",
    "    json.dump(metadata_list, f, ensure_ascii=False, indent=2)\n",
    "\n",
    "print(\"FAISS index and metadata saved to 'vector_store/' directory.\")"
   ]
  }
 ],
 "metadata": {
  "kernelspec": {
   "display_name": ".venv",
   "language": "python",
   "name": "python3"
  },
  "language_info": {
   "codemirror_mode": {
    "name": "ipython",
    "version": 3
   },
   "file_extension": ".py",
   "mimetype": "text/x-python",
   "name": "python",
   "nbconvert_exporter": "python",
   "pygments_lexer": "ipython3",
   "version": "3.12.7"
  }
 },
 "nbformat": 4,
 "nbformat_minor": 5
}
